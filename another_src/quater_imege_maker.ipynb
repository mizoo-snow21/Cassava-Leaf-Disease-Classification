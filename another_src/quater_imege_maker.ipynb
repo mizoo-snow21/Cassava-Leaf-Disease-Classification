{
 "cells": [
  {
   "cell_type": "code",
   "execution_count": 1,
   "metadata": {},
   "outputs": [],
   "source": [
    "import cv2\n",
    "import pandas as pd\n",
    "import numpy as np"
   ]
  },
  {
   "cell_type": "code",
   "execution_count": 2,
   "metadata": {},
   "outputs": [],
   "source": [
    "train_image = \"input/cassava-leaf-disease-classification/train_images\"\n",
    "train_df = pd.read_csv(\"train_folds.csv\")\n",
    "quater_path = \"quater_train\""
   ]
  },
  {
   "cell_type": "code",
   "execution_count": 3,
   "metadata": {},
   "outputs": [],
   "source": [
    "quater_images = []\n",
    "quater_targets = []\n",
    "quater_kfolds = []"
   ]
  },
  {
   "cell_type": "code",
   "execution_count": 4,
   "metadata": {},
   "outputs": [],
   "source": [
    "def get_img(path):\n",
    "    im_bgr = cv2.imread(path)\n",
    "    im_rgb = im_bgr[:, :, ::-1]\n",
    "    #print(im_rgb)\n",
    "    return im_rgb"
   ]
  },
  {
   "cell_type": "code",
   "execution_count": 5,
   "metadata": {},
   "outputs": [],
   "source": [
    "def quater_image(root,image_df,output):\n",
    "    for index,df in image_df.iterrows():\n",
    "        image_id = df.image_id\n",
    "        target = df.label\n",
    "        kfold = df.kfold\n",
    "        \n",
    "        img  = get_img(\"{}/{}\".format(root, image_id))\n",
    "        height, width, channels = img.shape\n",
    "        \n",
    "        clp = img[0:height//2, 0:width//2]\n",
    "        cv2.imwrite(\"{}/tl_{}\".format(output, image_id), clp)\n",
    "        quater_images.append(\"tl_{}\".format(image_id))\n",
    "        quater_targets.append(target)\n",
    "        quater_kfolds.append(kfold)\n",
    "        \n",
    "        clp = img[0:height//2, width//2:width]     \n",
    "        cv2.imwrite(\"{}/tr_{}\".format(output, image_id), clp)   \n",
    "        quater_images.append(\"tr_{}\".format(image_id))\n",
    "        quater_targets.append(target)\n",
    "        quater_kfolds.append(kfold)\n",
    "        \n",
    "        clp = img[height//2:height, 0:width//2]     \n",
    "        cv2.imwrite(\"{}/ul_{}\".format(output, image_id), clp)   \n",
    "        quater_images.append(\"ul_{}\".format(image_id))\n",
    "        quater_targets.append(target)\n",
    "        quater_kfolds.append(kfold)\n",
    "        \n",
    "        clp = img[height//2:height, width//2:width]     \n",
    "        cv2.imwrite(\"{}/ur_{}\".format(output, image_id), clp)\n",
    "        quater_images.append(\"ur_{}\".format(image_id))\n",
    "        quater_targets.append(target)\n",
    "        quater_kfolds.append(kfold)"
   ]
  },
  {
   "cell_type": "code",
   "execution_count": 6,
   "metadata": {},
   "outputs": [],
   "source": [
    "quater_image(train_image,train_df,quater_path)"
   ]
  },
  {
   "cell_type": "code",
   "execution_count": 7,
   "metadata": {},
   "outputs": [
    {
     "name": "stdout",
     "output_type": "stream",
     "text": [
      "85588\n",
      "85588\n",
      "85588\n"
     ]
    }
   ],
   "source": [
    "print(len(quater_images))\n",
    "print(len(quater_targets))\n",
    "print(len(quater_kfolds))"
   ]
  },
  {
   "cell_type": "code",
   "execution_count": 8,
   "metadata": {},
   "outputs": [],
   "source": [
    "quater_list = []"
   ]
  },
  {
   "cell_type": "code",
   "execution_count": 9,
   "metadata": {},
   "outputs": [],
   "source": [
    "quater_list.append(quater_images)\n",
    "quater_list.append(quater_targets)\n",
    "quater_list.append(quater_kfolds)"
   ]
  },
  {
   "cell_type": "code",
   "execution_count": 10,
   "metadata": {},
   "outputs": [],
   "source": [
    "quater_df = np.array(quater_list).T"
   ]
  },
  {
   "cell_type": "code",
   "execution_count": 11,
   "metadata": {},
   "outputs": [
    {
     "data": {
      "text/plain": [
       "array([['tl_1000015157.jpg', '0', '2.0'],\n",
       "       ['tr_1000015157.jpg', '0', '2.0'],\n",
       "       ['ul_1000015157.jpg', '0', '2.0'],\n",
       "       ...,\n",
       "       ['tr_999998473.jpg', '4', '0.0'],\n",
       "       ['ul_999998473.jpg', '4', '0.0'],\n",
       "       ['ur_999998473.jpg', '4', '0.0']], dtype='<U17')"
      ]
     },
     "execution_count": 11,
     "metadata": {},
     "output_type": "execute_result"
    }
   ],
   "source": [
    "quater_df"
   ]
  },
  {
   "cell_type": "code",
   "execution_count": 12,
   "metadata": {},
   "outputs": [],
   "source": [
    "pd.DataFrame(quater_df,columns=['iamge_id','label','kfold']).to_csv('quater_train.csv')"
   ]
  },
  {
   "cell_type": "code",
   "execution_count": null,
   "metadata": {},
   "outputs": [],
   "source": []
  }
 ],
 "metadata": {
  "environment": {
   "name": "pytorch-gpu.1-6.m59",
   "type": "gcloud",
   "uri": "gcr.io/deeplearning-platform-release/pytorch-gpu.1-6:m59"
  },
  "kernelspec": {
   "display_name": "Python 3",
   "language": "python",
   "name": "python3"
  },
  "language_info": {
   "codemirror_mode": {
    "name": "ipython",
    "version": 3
   },
   "file_extension": ".py",
   "mimetype": "text/x-python",
   "name": "python",
   "nbconvert_exporter": "python",
   "pygments_lexer": "ipython3",
   "version": "3.7.8"
  }
 },
 "nbformat": 4,
 "nbformat_minor": 4
}
